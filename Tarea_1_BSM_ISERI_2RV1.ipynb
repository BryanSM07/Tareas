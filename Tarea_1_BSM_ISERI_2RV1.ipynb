{
  "nbformat": 4,
  "nbformat_minor": 0,
  "metadata": {
    "colab": {
      "name": "Tarea_1_BSM_ISERI_2RV1.ipynb",
      "provenance": [],
      "collapsed_sections": []
    },
    "kernelspec": {
      "name": "python3",
      "display_name": "Python 3"
    }
  },
  "cells": [
    {
      "cell_type": "markdown",
      "metadata": {
        "id": "jHZ8MC7O3jJX"
      },
      "source": [
        "#Ejercicios\n",
        "##Restaurante\n",
        "###a) Crear una clase llamada Restaurant. El método __init__() debe de aceptar dos atributos: El nombre_restaurant y el tipo_cocina.\n",
        "###b) Crear un método que se llame describe_restaurant que imprima: El nombre del restaurant es: ------ y El tipo de comida que se sirve es: -------. \n",
        "###c) Generar"
      ]
    },
    {
      "cell_type": "code",
      "metadata": {
        "id": "W77O0zEQ3p-o",
        "outputId": "53221e60-c0e2-4f4c-af77-536b60e45770",
        "colab": {
          "base_uri": "https://localhost:8080/"
        }
      },
      "source": [
        "class Restaurante():\n",
        "\n",
        "    def __init__(self,nombre,tipoCocina):\n",
        "      self.nombre=nombre \n",
        "      self.tipoCocina=tipoCocina\n",
        "\n",
        "    def describe_restaurante(self): \n",
        "      print(\"el Nombre del restaurante es \" + self.nombre.title() + \" y el tipo de comida que sirve es \" + self.tipoCocina.title() + \".\" )\n",
        "\n",
        "restaurante_0 = Restaurante(\"Coloso \",\" China \")\n",
        "restaurante_0.describe_restaurante()"
      ],
      "execution_count": 12,
      "outputs": [
        {
          "output_type": "stream",
          "text": [
            "el Nombre del restaurante es Coloso  y el tipo de comida que sirve es  China .\n"
          ],
          "name": "stdout"
        }
      ]
    },
    {
      "cell_type": "markdown",
      "metadata": {
        "id": "WPgn6XJy6eBD"
      },
      "source": [
        "##Tres Restaurantes: Crear tres restaurantes utilizando la clase que se ha definido con anterioridad y llame al método describe_restaurant para cada instancia de la clase."
      ]
    },
    {
      "cell_type": "code",
      "metadata": {
        "id": "VA_osXcl6j_0",
        "outputId": "9ecea4b0-df16-4d3c-99b0-f3f2e93547b4",
        "colab": {
          "base_uri": "https://localhost:8080/"
        }
      },
      "source": [
        " restaurante_1=Restaurante(\"Nexko\",\"Otomi\")\n",
        " restaurante_1.describe_restaurante()\n",
        "\n",
        " restaurante_2=Restaurante(\"DeliCrown\",\"Americana\")\n",
        " restaurante_2.describe_restaurante()\n",
        "\n",
        " restaurante_3=Restaurante(\"Le Petite\",\"Francesa\")\n",
        " restaurante_3.describe_restaurante()"
      ],
      "execution_count": 13,
      "outputs": [
        {
          "output_type": "stream",
          "text": [
            "el Nombre del restaurante es Nexko y el tipo de comida que sirve es Otomi.\n",
            "el Nombre del restaurante es Delicrown y el tipo de comida que sirve es Americana.\n",
            "el Nombre del restaurante es Le Petite y el tipo de comida que sirve es Francesa.\n"
          ],
          "name": "stdout"
        }
      ]
    },
    {
      "cell_type": "markdown",
      "metadata": {
        "id": "Irr093nmC8bT"
      },
      "source": [
        "##Usuarios: \n",
        "###a) Cree una clase que se llame Usuario. \n",
        "###b)Cree dos atributos llamados Nombre y Apellido, agregue atributos como CURP,Fecha_Nacimiento, Sexo, Grado_estudios. \n",
        "###c)Genere un método llamado Saluda_usuario y que despliegue en pantalla algo como Hola Juan Ruiz de Alarcón. \n",
        "###d)Genere un método que se llame Describe_usuario y que muestre toda la información del usuario. e)Genere 5 objetos tipo usuario y ejecute los dos métodos anteriormente descritos."
      ]
    },
    {
      "cell_type": "code",
      "metadata": {
        "id": "cvbSpwSlDImw"
      },
      "source": [
        ""
      ],
      "execution_count": null,
      "outputs": []
    },
    {
      "cell_type": "code",
      "metadata": {
        "id": "RwavODRpDLVH",
        "outputId": "460a18a9-e795-44cf-a3c7-2a9b53d81bbe",
        "colab": {
          "base_uri": "https://localhost:8080/"
        }
      },
      "source": [
        "class Usuario():\n",
        "  \n",
        "   def __init__(self,nombre, apellido,curp,fecha_nacimiento,sexo,grado_estudios):\n",
        "     self.nombre=nombre\n",
        "     self.apellido=apellido\n",
        "     self.curp=curp\n",
        "     self.fecha_nacimiento=fecha_nacimiento\n",
        "     self.sexo=sexo\n",
        "     self.grado_estudios=grado_estudios\n",
        "\n",
        "   def saluda_usuario(self):\n",
        "     print(\"Hola \"+self.nombre.title()+\" \"+self.apellido.title()+\".\")\n",
        "   \n",
        "   def describe_usuario(self):\n",
        "     print(\"Bienvenid@ usuario \"+self.nombre.title()+ \" \"+self.apellido.title())\n",
        "     print(\"Con CURP \"+self.curp.title()+\" , fecha de nacimiento en \"+self.fecha_nacimiento.title())\n",
        "     print(\"de sexo \"+self.sexo.title()+\", y grado de estudios \"+self.grado_estudios.title())\n",
        "\n",
        "usuario_0= Usuario(\"Stratom\",\"Bolk\",\"SAMB990822HMCNNR09\",\"22/08/1999\",\"Masculino\",\"Universidad\")\n",
        "usuario_0.saluda_usuario()\n",
        "  \n",
        "usuario_1=Usuario(\"Sebastian\",\"Sandoval\",\"5877545\",\"14/02/2011\",\"Masculino\",\"Primaria\")\n",
        "usuario_1.describe_usuario()\n",
        "\n",
        "usuario_2=Usuario(\"Jorge\",\"Taninos\",\"TAMS050704HMCNR15\",\"04/07/2005\",\"Masculino\",\"Preparatoria\")\n",
        "usuario_2.describe_usuario()\n",
        "\n",
        "usuario_3=Usuario(\"Octavio\",\"Nolasco\",\"NOIO4990719HMCNNR78\",\"19/07/1999\",\"Masculino\",\"Universidad\")\n",
        "usuario_3.describe_usuario()\n",
        "\n",
        "usuario_4=Usuario(\"Alicia\",\"Villan\",\"NOIO4990719HMCNNR78\",\"29/08/1999\",\"Femenino\",\"Universidad\")\n",
        "usuario_4.describe_usuario()\n",
        "\n",
        "usuario_5=Usuario(\"Janin\",\"Elizalde\",\"TREA990812HMCNNR78\",\"12/08/1999\",\"Femenino\",\"Universidad\")\n",
        "usuario_5.describe_usuario()\n",
        "      "
      ],
      "execution_count": 5,
      "outputs": [
        {
          "output_type": "stream",
          "text": [
            "Hola Stratom Bolk.\n",
            "Bienvenid@ usuario Sebastian Sandoval\n",
            "Con CURP 5877545 , fecha de nacimiento en 14/02/2011\n",
            "de sexo Masculino, y grado de estudios Primaria\n",
            "Bienvenid@ usuario Jorge Taninos\n",
            "Con CURP Tams050704Hmcnr15 , fecha de nacimiento en 04/07/2005\n",
            "de sexo Masculino, y grado de estudios Preparatoria\n",
            "Bienvenid@ usuario Octavio Nolasco\n",
            "Con CURP Noio4990719Hmcnnr78 , fecha de nacimiento en 19/07/1999\n",
            "de sexo Masculino, y grado de estudios Universidad\n",
            "Bienvenid@ usuario Alicia Villan\n",
            "Con CURP Noio4990719Hmcnnr78 , fecha de nacimiento en 29/08/1999\n",
            "de sexo Femenino, y grado de estudios Universidad\n",
            "Bienvenid@ usuario Janin Elizalde\n",
            "Con CURP Trea990812Hmcnnr78 , fecha de nacimiento en 12/08/1999\n",
            "de sexo Femenino, y grado de estudios Universidad\n"
          ],
          "name": "stdout"
        }
      ]
    },
    {
      "cell_type": "markdown",
      "metadata": {
        "id": "EMyHAnbOeSUv"
      },
      "source": [
        "##Heladería: Una heladería se puede ver como un tipo específico de restaurante. Cree una clase que se llame Heladeria que herede de la clase Restaurante que se ha desarrollado en los ejercicios anteriores. Cree un atributo que se llame sabores que debe de ser una lista (estructura de datos). Agregar un método a la clase Heladeria que muestre los sabores que tiene."
      ]
    },
    {
      "cell_type": "code",
      "metadata": {
        "id": "kX5s4JX5u4VY",
        "outputId": "16e0ccb9-31cf-46b2-f0d6-2f3e1c057565",
        "colab": {
          "base_uri": "https://localhost:8080/",
          "height": 231
        }
      },
      "source": [
        "class Helados(Restaurante):\n",
        "\n",
        "  def __init__(self,nombre,tipoCocina):\n",
        "    super().__init__(nombre,tipoCocina)\n",
        "    self.sabores=(\"chocochips\",\"limon\",\"fresa\",\"menta\",\"galleta\")\n",
        "    \n",
        "  def mostrar_sabores(self):\n",
        "    print(\"Los sabores disponibles son:\")\n",
        "    for i in self.sabores:\n",
        "      print(i)\n",
        "\n",
        "Heladeria_1= Helados(\"La Yucatana\",\"Delicias Congeladas\")\n",
        "Heladeria1_.describe_restaurante()\n",
        "Heladeria1_.mostrar_sabores()"
      ],
      "execution_count": 30,
      "outputs": [
        {
          "output_type": "error",
          "ename": "NameError",
          "evalue": "ignored",
          "traceback": [
            "\u001b[0;31m---------------------------------------------------------------------------\u001b[0m",
            "\u001b[0;31mNameError\u001b[0m                                 Traceback (most recent call last)",
            "\u001b[0;32m<ipython-input-30-f82ffbc1fbf5>\u001b[0m in \u001b[0;36m<module>\u001b[0;34m()\u001b[0m\n\u001b[0;32m----> 1\u001b[0;31m \u001b[0;32mclass\u001b[0m \u001b[0mHelados\u001b[0m\u001b[0;34m(\u001b[0m\u001b[0mRestaurante\u001b[0m\u001b[0;34m)\u001b[0m\u001b[0;34m:\u001b[0m\u001b[0;34m\u001b[0m\u001b[0;34m\u001b[0m\u001b[0m\n\u001b[0m\u001b[1;32m      2\u001b[0m \u001b[0;34m\u001b[0m\u001b[0m\n\u001b[1;32m      3\u001b[0m   \u001b[0;32mdef\u001b[0m \u001b[0m__init__\u001b[0m\u001b[0;34m(\u001b[0m\u001b[0mself\u001b[0m\u001b[0;34m,\u001b[0m\u001b[0mnombre\u001b[0m\u001b[0;34m,\u001b[0m\u001b[0mtipoCocina\u001b[0m\u001b[0;34m)\u001b[0m\u001b[0;34m:\u001b[0m\u001b[0;34m\u001b[0m\u001b[0;34m\u001b[0m\u001b[0m\n\u001b[1;32m      4\u001b[0m     \u001b[0msuper\u001b[0m\u001b[0;34m(\u001b[0m\u001b[0;34m)\u001b[0m\u001b[0;34m.\u001b[0m\u001b[0m__init__\u001b[0m\u001b[0;34m(\u001b[0m\u001b[0mnombre\u001b[0m\u001b[0;34m,\u001b[0m\u001b[0mtipoCocina\u001b[0m\u001b[0;34m)\u001b[0m\u001b[0;34m\u001b[0m\u001b[0;34m\u001b[0m\u001b[0m\n\u001b[1;32m      5\u001b[0m     \u001b[0mself\u001b[0m\u001b[0;34m.\u001b[0m\u001b[0msabores\u001b[0m\u001b[0;34m=\u001b[0m\u001b[0;34m(\u001b[0m\u001b[0;34m\"chocochips\"\u001b[0m\u001b[0;34m,\u001b[0m\u001b[0;34m\"limon\"\u001b[0m\u001b[0;34m,\u001b[0m\u001b[0;34m\"fresa\"\u001b[0m\u001b[0;34m,\u001b[0m\u001b[0;34m\"menta\"\u001b[0m\u001b[0;34m,\u001b[0m\u001b[0;34m\"galleta\"\u001b[0m\u001b[0;34m)\u001b[0m\u001b[0;34m\u001b[0m\u001b[0;34m\u001b[0m\u001b[0m\n",
            "\u001b[0;31mNameError\u001b[0m: name 'Restaurante' is not defined"
          ]
        }
      ]
    },
    {
      "cell_type": "markdown",
      "metadata": {
        "id": "eEuyL-oKzj1W"
      },
      "source": [
        "##Mensaje.\n",
        "##Escriba una función llamanda  display_message()  que imprima en la pantalla un mensaje que indique los temas que se han visto hasta el momento."
      ]
    },
    {
      "cell_type": "code",
      "metadata": {
        "id": "woPbYU090D3j",
        "outputId": "a27a01c5-4a9d-4c06-e88c-41267508e95b",
        "colab": {
          "base_uri": "https://localhost:8080/"
        }
      },
      "source": [
        "def display_messagge():\n",
        "  print(\"Que es una clase, herencia y funciones\")\n",
        "\n",
        "display_messagge()"
      ],
      "execution_count": 31,
      "outputs": [
        {
          "output_type": "stream",
          "text": [
            "Que es una clase, herencia y funciones\n"
          ],
          "name": "stdout"
        }
      ]
    },
    {
      "cell_type": "markdown",
      "metadata": {
        "id": "Fz2-WwIj1MHT"
      },
      "source": [
        "##Libro favorito.\n",
        "##Escriba una función que se llame  libro_favorito()  que acepte un parámetro llamado  titulo  y que despligue en la terminal Tu libro favorito es (nombre del libro)"
      ]
    },
    {
      "cell_type": "code",
      "metadata": {
        "id": "uouUm-Id1UXR",
        "outputId": "d6926674-f006-474f-d1fe-052921df3ad6",
        "colab": {
          "base_uri": "https://localhost:8080/"
        }
      },
      "source": [
        "def libro_favorito(titulo):\n",
        "  print(\"Tu libro favorito es \" + titulo)\n",
        "\n",
        "libro_favorito(\"La Niebla\")"
      ],
      "execution_count": 32,
      "outputs": [
        {
          "output_type": "stream",
          "text": [
            "Tu libro favorito es La Niebla\n"
          ],
          "name": "stdout"
        }
      ]
    },
    {
      "cell_type": "markdown",
      "metadata": {
        "id": "8-YtYn8L2krq"
      },
      "source": [
        "##Playera\n",
        "Escriba una función llamanda  hacerPlayera()  que acepte como argumento, el tamaño y un texto que apararecerá cerigrafeado en la playera. La función deberá imprimir en la terminal algo parecido a lo siguiente\n",
        "\n",
        "La playera es talla \"Grande\" y el texto a cerigrafear es: \"Hola amigos\"\n",
        "\n",
        "Para verificar el correcto funcionamiento de la función, genere un programa que la invoque."
      ]
    },
    {
      "cell_type": "code",
      "metadata": {
        "id": "0YAOGJ1L2l41",
        "outputId": "4d1b7849-241f-4580-b042-6795af94b259",
        "colab": {
          "base_uri": "https://localhost:8080/"
        }
      },
      "source": [
        "def hacerPlayera(Talla,Texto):\n",
        "  print(\"La playera es talla \" + Talla  + \" y el texto a cerifigrafear es \" + \"-\" + Texto + \"-.\" )\n",
        "\n",
        "hacerPlayera(Talla= \"Grande\",Texto = \"Hola amigos\")"
      ],
      "execution_count": 33,
      "outputs": [
        {
          "output_type": "stream",
          "text": [
            "La playera es talla Grande y el texto a cerifigrafear es -Hola amigos-.\n"
          ],
          "name": "stdout"
        }
      ]
    },
    {
      "cell_type": "markdown",
      "metadata": {
        "id": "YiR4YHqN3ZBR"
      },
      "source": [
        "Modique la función  hacerPlayera()  de tal manera que las playeras grandes sean predeterminadas y el texto predefinido para la cerigrafear sea  yo <3 Python .\n",
        "\n",
        "Para verificar el correcto funcionamiento del módulo:\n",
        "\n",
        "Genere una playera grande utlizando el texto predeterminado.\n",
        "\n",
        "Genere una playera mediana con el texto predeterminado.\n",
        "\n",
        "Genere una playera de talla distnta a grande con un texto distinto al predeterminado."
      ]
    },
    {
      "cell_type": "code",
      "metadata": {
        "id": "n16HCzcn3ddS",
        "outputId": "61836c35-e6af-465b-e0ea-651e58c987b8",
        "colab": {
          "base_uri": "https://localhost:8080/"
        }
      },
      "source": [
        "def hacerPlayera(Talla=\"grande\",Texto=\"Yo ❤ python\"):\n",
        "  print(\"Talla de playera\" + Talla  + \" y se va a cerifigrafear es \" + \"-\" + Texto + \"-.\" )\n",
        "\n",
        "hacerPlayera()\n",
        "hacerPlayera(Talla=\"mediana\")\n",
        "hacerPlayera(Talla=\"mediana\",Texto=\"Mi nombre es StratomBolk\")"
      ],
      "execution_count": 34,
      "outputs": [
        {
          "output_type": "stream",
          "text": [
            "La playera es talla grande y el texto a cerifigrafear es -Yo ❤ python-.\n",
            "La playera es talla mediana y el texto a cerifigrafear es -Yo ❤ python-.\n",
            "La playera es talla mediana y el texto a cerifigrafear es -Mi nombre es StratomBolk-.\n"
          ],
          "name": "stdout"
        }
      ]
    },
    {
      "cell_type": "markdown",
      "metadata": {
        "id": "8d-iFXg623Wd"
      },
      "source": [
        "Hacer un módulo con las funciones básicas para una calculadora, suma, resta, producto y división, en la función de división si el denomidador es igual a cero debe de volver a leer el valor del denominador hasta que sea distinto de cero (se recomienda utilizar el ciclo while y el condicional if)"
      ]
    },
    {
      "cell_type": "code",
      "metadata": {
        "id": "Ep7nJ-WF2-Xx",
        "outputId": "bf7e627c-7b10-4065-b706-d0d14abedf47",
        "colab": {
          "base_uri": "https://localhost:8080/"
        }
      },
      "source": [
        "def descripcionCiudad(ciudad,pais):\n",
        "  print(ciudad + \" esta en \" + pais)\n",
        "\n",
        "descripcionCiudad(\"Sonora\",\"México\")\n",
        "descripcionCiudad(\"San Petersburgo\", \"Rusia\")\n",
        "descripcionCiudad(\"New York\",\"Estados Unidos\")"
      ],
      "execution_count": 35,
      "outputs": [
        {
          "output_type": "stream",
          "text": [
            "Sonora esta en México\n",
            "San Petersburgo esta en Rusia\n",
            "New York esta en Estados Unidos\n"
          ],
          "name": "stdout"
        }
      ]
    },
    {
      "cell_type": "markdown",
      "metadata": {
        "id": "SpysXFoG4jji"
      },
      "source": [
        "Hacer un módulo con las funciones básicas para una calculadora, suma, resta, producto y división, en la función de división si el denomidador es igual a cero debe de volver a leer el valor del denominador hasta que sea distinto de cero (se recomienda utilizar el ciclo while y el condicional if)"
      ]
    },
    {
      "cell_type": "code",
      "metadata": {
        "id": "QuWLZETV4oTD",
        "outputId": "03d4ffaf-f6d3-4178-ca1f-57d75b97c9bb",
        "colab": {
          "base_uri": "https://localhost:8080/"
        }
      },
      "source": [
        "a= float(input(\"Numero: \"))\n",
        "b= float(input(\"Numero: \"))\n",
        "\n",
        "def suma(a,b):\n",
        "    suma_0= a + b\n",
        "    return suma_0\n",
        "    print (suma_0)\n",
        "\n",
        "def resta(a,b):\n",
        "    resta_0= a-b\n",
        "    return resta_0\n",
        "    print (resta_0)\n",
        "\n",
        "def producto(a,b):\n",
        "    producto_1=a*b\n",
        "    return producto_1\n",
        "    print (producto_1)\n",
        "\n",
        "def division(a,b):\n",
        "        if b == 0:\n",
        "            print(\"Inserte un valor diferente de 0\")\n",
        "        else:\n",
        "           print(a/b)\n",
        "        \n",
        "        \n",
        "print(suma(a,b))\n",
        "print(resta(a,b))\n",
        "print(producto(a,b))\n",
        "print(division(a,b))\n"
      ],
      "execution_count": 38,
      "outputs": [
        {
          "output_type": "stream",
          "text": [
            "Numero: 14\n",
            "Numero: 6\n",
            "20.0\n",
            "8.0\n",
            "84.0\n",
            "2.3333333333333335\n",
            "None\n"
          ],
          "name": "stdout"
        }
      ]
    },
    {
      "cell_type": "markdown",
      "metadata": {
        "id": "w5W-qYLg5SKg"
      },
      "source": [
        "Hacer una función que el usuario introduzca un número y la función debe de desplegar un triángulo de sumas, Como ejemplo, si el usuario manda a la función 4 debeía imprimir el siguiente arreglo"
      ]
    },
    {
      "cell_type": "code",
      "metadata": {
        "id": "M7pDhMxP5PCV",
        "outputId": "7235cde0-7489-443c-8e5e-e96073b50c46",
        "colab": {
          "base_uri": "https://localhost:8080/"
        }
      },
      "source": [
        "def triangulo(n):\n",
        "  return \"\\n\".join([\"*\"*i for i in range(1,n+1)])\n",
        " \n",
        "numero=int(input(\"Inserta un numero: \"))\n",
        "print(triangulo(numero))"
      ],
      "execution_count": 40,
      "outputs": [
        {
          "output_type": "stream",
          "text": [
            "Inserta un numero: 5\n",
            "*\n",
            "**\n",
            "***\n",
            "****\n",
            "*****\n"
          ],
          "name": "stdout"
        }
      ]
    }
  ]
}